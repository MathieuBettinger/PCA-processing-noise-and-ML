{
 "cells": [
  {
   "cell_type": "markdown",
   "metadata": {},
   "source": [
    "# Noise cancellation \n",
    "\n",
    "Let's see another use case of PCA: noise reduction. In this exercise, we will need to classify handwritten digits. Unfortunately, the dataset is extremely noisy. Let's see how PCA can help us!"
   ]
  },
  {
   "cell_type": "markdown",
   "metadata": {},
   "source": [
    "1. Import `pandas` and then download data from these two urls: \n",
    "    * images 👉👉 <a href=\"https://full-stack-bigdata-datasets.s3.eu-west-3.amazonaws.com/Machine+Learning+non+Supervis%C3%A9/PCA/noisy_digits.csv\" target=\"_blank\">Download</a>\n",
    "\n",
    "    * labels 👉👉 <a href=\"https://full-stack-bigdata-datasets.s3.eu-west-3.amazonaws.com/Machine+Learning+non+Supervis%C3%A9/PCA/noisy_digits_labels.csv\" target=\"_blank\">Download</a>"
   ]
  },
  {
   "cell_type": "code",
   "execution_count": 1,
   "metadata": {},
   "outputs": [],
   "source": [
    "import seaborn as sns\n",
    "import pandas as pd \n",
    "import numpy as np\n",
    "import matplotlib as plt\n",
    "import matplotlib.pyplot as plt"
   ]
  },
  {
   "cell_type": "code",
   "execution_count": 2,
   "metadata": {},
   "outputs": [],
   "source": [
    "images = pd.read_csv(\"https://full-stack-bigdata-datasets.s3.eu-west-3.amazonaws.com/Machine+Learning+non+Supervis%C3%A9/PCA/noisy_digits.csv\")\n",
    "labels=pd.read_csv(\"https://full-stack-bigdata-datasets.s3.eu-west-3.amazonaws.com/Machine+Learning+non+Supervis%C3%A9/PCA/noisy_digits_labels.csv\")"
   ]
  },
  {
   "cell_type": "code",
   "execution_count": 3,
   "metadata": {},
   "outputs": [
    {
     "data": {
      "text/html": [
       "<div>\n",
       "<style scoped>\n",
       "    .dataframe tbody tr th:only-of-type {\n",
       "        vertical-align: middle;\n",
       "    }\n",
       "\n",
       "    .dataframe tbody tr th {\n",
       "        vertical-align: top;\n",
       "    }\n",
       "\n",
       "    .dataframe thead th {\n",
       "        text-align: right;\n",
       "    }\n",
       "</style>\n",
       "<table border=\"1\" class=\"dataframe\">\n",
       "  <thead>\n",
       "    <tr style=\"text-align: right;\">\n",
       "      <th></th>\n",
       "      <th>Unnamed: 0</th>\n",
       "      <th>pixel0</th>\n",
       "      <th>pixel1</th>\n",
       "      <th>pixel2</th>\n",
       "      <th>pixel3</th>\n",
       "      <th>pixel4</th>\n",
       "      <th>pixel5</th>\n",
       "      <th>pixel6</th>\n",
       "      <th>pixel7</th>\n",
       "      <th>pixel8</th>\n",
       "      <th>...</th>\n",
       "      <th>pixel774</th>\n",
       "      <th>pixel775</th>\n",
       "      <th>pixel776</th>\n",
       "      <th>pixel777</th>\n",
       "      <th>pixel778</th>\n",
       "      <th>pixel779</th>\n",
       "      <th>pixel780</th>\n",
       "      <th>pixel781</th>\n",
       "      <th>pixel782</th>\n",
       "      <th>pixel783</th>\n",
       "    </tr>\n",
       "  </thead>\n",
       "  <tbody>\n",
       "    <tr>\n",
       "      <th>0</th>\n",
       "      <td>0</td>\n",
       "      <td>-176.321245</td>\n",
       "      <td>-52.743850</td>\n",
       "      <td>143.604939</td>\n",
       "      <td>-53.567749</td>\n",
       "      <td>80.289381</td>\n",
       "      <td>20.686379</td>\n",
       "      <td>-197.423519</td>\n",
       "      <td>-229.401206</td>\n",
       "      <td>-221.900009</td>\n",
       "      <td>...</td>\n",
       "      <td>34.407070</td>\n",
       "      <td>1.950735</td>\n",
       "      <td>-25.095565</td>\n",
       "      <td>133.684095</td>\n",
       "      <td>-21.664094</td>\n",
       "      <td>-94.305438</td>\n",
       "      <td>-55.987821</td>\n",
       "      <td>-89.929231</td>\n",
       "      <td>40.394774</td>\n",
       "      <td>-214.754480</td>\n",
       "    </tr>\n",
       "    <tr>\n",
       "      <th>1</th>\n",
       "      <td>1</td>\n",
       "      <td>-158.421239</td>\n",
       "      <td>16.371695</td>\n",
       "      <td>62.810879</td>\n",
       "      <td>263.533916</td>\n",
       "      <td>-193.920320</td>\n",
       "      <td>-25.366668</td>\n",
       "      <td>107.062706</td>\n",
       "      <td>125.403427</td>\n",
       "      <td>83.536343</td>\n",
       "      <td>...</td>\n",
       "      <td>-5.419961</td>\n",
       "      <td>-123.584030</td>\n",
       "      <td>20.240434</td>\n",
       "      <td>-25.699206</td>\n",
       "      <td>-128.545930</td>\n",
       "      <td>52.525885</td>\n",
       "      <td>-54.214887</td>\n",
       "      <td>-133.842624</td>\n",
       "      <td>-30.141215</td>\n",
       "      <td>210.408665</td>\n",
       "    </tr>\n",
       "    <tr>\n",
       "      <th>2</th>\n",
       "      <td>2</td>\n",
       "      <td>-290.343750</td>\n",
       "      <td>81.586500</td>\n",
       "      <td>12.615232</td>\n",
       "      <td>146.567851</td>\n",
       "      <td>111.233602</td>\n",
       "      <td>-188.989259</td>\n",
       "      <td>-101.464605</td>\n",
       "      <td>-107.015195</td>\n",
       "      <td>-13.069827</td>\n",
       "      <td>...</td>\n",
       "      <td>-139.909318</td>\n",
       "      <td>-85.214133</td>\n",
       "      <td>167.495617</td>\n",
       "      <td>62.402411</td>\n",
       "      <td>-144.402970</td>\n",
       "      <td>152.263950</td>\n",
       "      <td>-4.687051</td>\n",
       "      <td>-59.270131</td>\n",
       "      <td>-93.193600</td>\n",
       "      <td>188.229794</td>\n",
       "    </tr>\n",
       "    <tr>\n",
       "      <th>3</th>\n",
       "      <td>3</td>\n",
       "      <td>-208.840590</td>\n",
       "      <td>136.190431</td>\n",
       "      <td>38.552191</td>\n",
       "      <td>-67.825346</td>\n",
       "      <td>24.316303</td>\n",
       "      <td>176.103673</td>\n",
       "      <td>31.581298</td>\n",
       "      <td>-163.582673</td>\n",
       "      <td>29.777077</td>\n",
       "      <td>...</td>\n",
       "      <td>-131.385192</td>\n",
       "      <td>40.329733</td>\n",
       "      <td>-10.111639</td>\n",
       "      <td>163.497435</td>\n",
       "      <td>41.010287</td>\n",
       "      <td>-21.408008</td>\n",
       "      <td>328.274235</td>\n",
       "      <td>-15.341672</td>\n",
       "      <td>121.570863</td>\n",
       "      <td>151.757537</td>\n",
       "    </tr>\n",
       "    <tr>\n",
       "      <th>4</th>\n",
       "      <td>4</td>\n",
       "      <td>-328.876288</td>\n",
       "      <td>-42.862900</td>\n",
       "      <td>174.651874</td>\n",
       "      <td>-228.833439</td>\n",
       "      <td>71.909654</td>\n",
       "      <td>-97.206392</td>\n",
       "      <td>48.048853</td>\n",
       "      <td>-34.071313</td>\n",
       "      <td>3.820465</td>\n",
       "      <td>...</td>\n",
       "      <td>-135.713199</td>\n",
       "      <td>-71.396796</td>\n",
       "      <td>155.237981</td>\n",
       "      <td>-141.860908</td>\n",
       "      <td>155.657335</td>\n",
       "      <td>166.609760</td>\n",
       "      <td>-52.911774</td>\n",
       "      <td>267.150703</td>\n",
       "      <td>-36.749672</td>\n",
       "      <td>131.913772</td>\n",
       "    </tr>\n",
       "    <tr>\n",
       "      <th>...</th>\n",
       "      <td>...</td>\n",
       "      <td>...</td>\n",
       "      <td>...</td>\n",
       "      <td>...</td>\n",
       "      <td>...</td>\n",
       "      <td>...</td>\n",
       "      <td>...</td>\n",
       "      <td>...</td>\n",
       "      <td>...</td>\n",
       "      <td>...</td>\n",
       "      <td>...</td>\n",
       "      <td>...</td>\n",
       "      <td>...</td>\n",
       "      <td>...</td>\n",
       "      <td>...</td>\n",
       "      <td>...</td>\n",
       "      <td>...</td>\n",
       "      <td>...</td>\n",
       "      <td>...</td>\n",
       "      <td>...</td>\n",
       "      <td>...</td>\n",
       "    </tr>\n",
       "    <tr>\n",
       "      <th>41995</th>\n",
       "      <td>41995</td>\n",
       "      <td>-193.715418</td>\n",
       "      <td>-121.055317</td>\n",
       "      <td>-47.201498</td>\n",
       "      <td>41.050010</td>\n",
       "      <td>275.268593</td>\n",
       "      <td>81.153157</td>\n",
       "      <td>-174.087117</td>\n",
       "      <td>219.320855</td>\n",
       "      <td>23.641371</td>\n",
       "      <td>...</td>\n",
       "      <td>-22.867966</td>\n",
       "      <td>-291.819073</td>\n",
       "      <td>-82.147882</td>\n",
       "      <td>137.773779</td>\n",
       "      <td>-72.174446</td>\n",
       "      <td>-78.036429</td>\n",
       "      <td>-4.125571</td>\n",
       "      <td>-99.386126</td>\n",
       "      <td>-59.523670</td>\n",
       "      <td>-148.240194</td>\n",
       "    </tr>\n",
       "    <tr>\n",
       "      <th>41996</th>\n",
       "      <td>41996</td>\n",
       "      <td>16.644166</td>\n",
       "      <td>-149.397247</td>\n",
       "      <td>-154.872496</td>\n",
       "      <td>-222.054111</td>\n",
       "      <td>-48.943347</td>\n",
       "      <td>-19.228871</td>\n",
       "      <td>-20.847262</td>\n",
       "      <td>0.414076</td>\n",
       "      <td>193.558068</td>\n",
       "      <td>...</td>\n",
       "      <td>-26.076300</td>\n",
       "      <td>129.247935</td>\n",
       "      <td>179.948461</td>\n",
       "      <td>57.081104</td>\n",
       "      <td>-152.773722</td>\n",
       "      <td>100.105530</td>\n",
       "      <td>182.045722</td>\n",
       "      <td>183.716333</td>\n",
       "      <td>-33.014323</td>\n",
       "      <td>-114.653462</td>\n",
       "    </tr>\n",
       "    <tr>\n",
       "      <th>41997</th>\n",
       "      <td>41997</td>\n",
       "      <td>-137.293206</td>\n",
       "      <td>-280.697152</td>\n",
       "      <td>-177.704894</td>\n",
       "      <td>224.618264</td>\n",
       "      <td>-5.735675</td>\n",
       "      <td>-59.081084</td>\n",
       "      <td>17.239577</td>\n",
       "      <td>-200.140062</td>\n",
       "      <td>25.964959</td>\n",
       "      <td>...</td>\n",
       "      <td>-124.788842</td>\n",
       "      <td>-289.137063</td>\n",
       "      <td>45.366184</td>\n",
       "      <td>-44.146243</td>\n",
       "      <td>-148.994209</td>\n",
       "      <td>-92.854252</td>\n",
       "      <td>-86.153870</td>\n",
       "      <td>-116.407319</td>\n",
       "      <td>-181.573578</td>\n",
       "      <td>91.530785</td>\n",
       "    </tr>\n",
       "    <tr>\n",
       "      <th>41998</th>\n",
       "      <td>41998</td>\n",
       "      <td>120.670250</td>\n",
       "      <td>-60.609717</td>\n",
       "      <td>-56.538574</td>\n",
       "      <td>-73.734513</td>\n",
       "      <td>39.947645</td>\n",
       "      <td>-45.941658</td>\n",
       "      <td>84.015198</td>\n",
       "      <td>-131.360772</td>\n",
       "      <td>-267.020326</td>\n",
       "      <td>...</td>\n",
       "      <td>57.272369</td>\n",
       "      <td>4.541028</td>\n",
       "      <td>-132.156557</td>\n",
       "      <td>28.058669</td>\n",
       "      <td>100.149738</td>\n",
       "      <td>-37.536355</td>\n",
       "      <td>-13.550537</td>\n",
       "      <td>-282.136177</td>\n",
       "      <td>-97.041014</td>\n",
       "      <td>-19.465637</td>\n",
       "    </tr>\n",
       "    <tr>\n",
       "      <th>41999</th>\n",
       "      <td>41999</td>\n",
       "      <td>-38.434243</td>\n",
       "      <td>-5.786893</td>\n",
       "      <td>-209.555177</td>\n",
       "      <td>112.697133</td>\n",
       "      <td>110.515887</td>\n",
       "      <td>-113.391496</td>\n",
       "      <td>128.058121</td>\n",
       "      <td>-17.148572</td>\n",
       "      <td>-72.429142</td>\n",
       "      <td>...</td>\n",
       "      <td>89.297473</td>\n",
       "      <td>121.074453</td>\n",
       "      <td>51.066579</td>\n",
       "      <td>-194.280570</td>\n",
       "      <td>-69.258352</td>\n",
       "      <td>-68.913131</td>\n",
       "      <td>132.899241</td>\n",
       "      <td>10.597331</td>\n",
       "      <td>241.670217</td>\n",
       "      <td>-17.813764</td>\n",
       "    </tr>\n",
       "  </tbody>\n",
       "</table>\n",
       "<p>42000 rows × 785 columns</p>\n",
       "</div>"
      ],
      "text/plain": [
       "       Unnamed: 0      pixel0      pixel1      pixel2      pixel3      pixel4  \\\n",
       "0               0 -176.321245  -52.743850  143.604939  -53.567749   80.289381   \n",
       "1               1 -158.421239   16.371695   62.810879  263.533916 -193.920320   \n",
       "2               2 -290.343750   81.586500   12.615232  146.567851  111.233602   \n",
       "3               3 -208.840590  136.190431   38.552191  -67.825346   24.316303   \n",
       "4               4 -328.876288  -42.862900  174.651874 -228.833439   71.909654   \n",
       "...           ...         ...         ...         ...         ...         ...   \n",
       "41995       41995 -193.715418 -121.055317  -47.201498   41.050010  275.268593   \n",
       "41996       41996   16.644166 -149.397247 -154.872496 -222.054111  -48.943347   \n",
       "41997       41997 -137.293206 -280.697152 -177.704894  224.618264   -5.735675   \n",
       "41998       41998  120.670250  -60.609717  -56.538574  -73.734513   39.947645   \n",
       "41999       41999  -38.434243   -5.786893 -209.555177  112.697133  110.515887   \n",
       "\n",
       "           pixel5      pixel6      pixel7      pixel8  ...    pixel774  \\\n",
       "0       20.686379 -197.423519 -229.401206 -221.900009  ...   34.407070   \n",
       "1      -25.366668  107.062706  125.403427   83.536343  ...   -5.419961   \n",
       "2     -188.989259 -101.464605 -107.015195  -13.069827  ... -139.909318   \n",
       "3      176.103673   31.581298 -163.582673   29.777077  ... -131.385192   \n",
       "4      -97.206392   48.048853  -34.071313    3.820465  ... -135.713199   \n",
       "...           ...         ...         ...         ...  ...         ...   \n",
       "41995   81.153157 -174.087117  219.320855   23.641371  ...  -22.867966   \n",
       "41996  -19.228871  -20.847262    0.414076  193.558068  ...  -26.076300   \n",
       "41997  -59.081084   17.239577 -200.140062   25.964959  ... -124.788842   \n",
       "41998  -45.941658   84.015198 -131.360772 -267.020326  ...   57.272369   \n",
       "41999 -113.391496  128.058121  -17.148572  -72.429142  ...   89.297473   \n",
       "\n",
       "         pixel775    pixel776    pixel777    pixel778    pixel779    pixel780  \\\n",
       "0        1.950735  -25.095565  133.684095  -21.664094  -94.305438  -55.987821   \n",
       "1     -123.584030   20.240434  -25.699206 -128.545930   52.525885  -54.214887   \n",
       "2      -85.214133  167.495617   62.402411 -144.402970  152.263950   -4.687051   \n",
       "3       40.329733  -10.111639  163.497435   41.010287  -21.408008  328.274235   \n",
       "4      -71.396796  155.237981 -141.860908  155.657335  166.609760  -52.911774   \n",
       "...           ...         ...         ...         ...         ...         ...   \n",
       "41995 -291.819073  -82.147882  137.773779  -72.174446  -78.036429   -4.125571   \n",
       "41996  129.247935  179.948461   57.081104 -152.773722  100.105530  182.045722   \n",
       "41997 -289.137063   45.366184  -44.146243 -148.994209  -92.854252  -86.153870   \n",
       "41998    4.541028 -132.156557   28.058669  100.149738  -37.536355  -13.550537   \n",
       "41999  121.074453   51.066579 -194.280570  -69.258352  -68.913131  132.899241   \n",
       "\n",
       "         pixel781    pixel782    pixel783  \n",
       "0      -89.929231   40.394774 -214.754480  \n",
       "1     -133.842624  -30.141215  210.408665  \n",
       "2      -59.270131  -93.193600  188.229794  \n",
       "3      -15.341672  121.570863  151.757537  \n",
       "4      267.150703  -36.749672  131.913772  \n",
       "...           ...         ...         ...  \n",
       "41995  -99.386126  -59.523670 -148.240194  \n",
       "41996  183.716333  -33.014323 -114.653462  \n",
       "41997 -116.407319 -181.573578   91.530785  \n",
       "41998 -282.136177  -97.041014  -19.465637  \n",
       "41999   10.597331  241.670217  -17.813764  \n",
       "\n",
       "[42000 rows x 785 columns]"
      ]
     },
     "metadata": {},
     "output_type": "display_data"
    },
    {
     "data": {
      "text/html": [
       "<div>\n",
       "<style scoped>\n",
       "    .dataframe tbody tr th:only-of-type {\n",
       "        vertical-align: middle;\n",
       "    }\n",
       "\n",
       "    .dataframe tbody tr th {\n",
       "        vertical-align: top;\n",
       "    }\n",
       "\n",
       "    .dataframe thead th {\n",
       "        text-align: right;\n",
       "    }\n",
       "</style>\n",
       "<table border=\"1\" class=\"dataframe\">\n",
       "  <thead>\n",
       "    <tr style=\"text-align: right;\">\n",
       "      <th></th>\n",
       "      <th>Unnamed: 0</th>\n",
       "      <th>label</th>\n",
       "    </tr>\n",
       "  </thead>\n",
       "  <tbody>\n",
       "    <tr>\n",
       "      <th>0</th>\n",
       "      <td>0</td>\n",
       "      <td>1</td>\n",
       "    </tr>\n",
       "    <tr>\n",
       "      <th>1</th>\n",
       "      <td>1</td>\n",
       "      <td>0</td>\n",
       "    </tr>\n",
       "    <tr>\n",
       "      <th>2</th>\n",
       "      <td>2</td>\n",
       "      <td>1</td>\n",
       "    </tr>\n",
       "    <tr>\n",
       "      <th>3</th>\n",
       "      <td>3</td>\n",
       "      <td>4</td>\n",
       "    </tr>\n",
       "    <tr>\n",
       "      <th>4</th>\n",
       "      <td>4</td>\n",
       "      <td>0</td>\n",
       "    </tr>\n",
       "    <tr>\n",
       "      <th>...</th>\n",
       "      <td>...</td>\n",
       "      <td>...</td>\n",
       "    </tr>\n",
       "    <tr>\n",
       "      <th>41995</th>\n",
       "      <td>41995</td>\n",
       "      <td>0</td>\n",
       "    </tr>\n",
       "    <tr>\n",
       "      <th>41996</th>\n",
       "      <td>41996</td>\n",
       "      <td>1</td>\n",
       "    </tr>\n",
       "    <tr>\n",
       "      <th>41997</th>\n",
       "      <td>41997</td>\n",
       "      <td>7</td>\n",
       "    </tr>\n",
       "    <tr>\n",
       "      <th>41998</th>\n",
       "      <td>41998</td>\n",
       "      <td>6</td>\n",
       "    </tr>\n",
       "    <tr>\n",
       "      <th>41999</th>\n",
       "      <td>41999</td>\n",
       "      <td>9</td>\n",
       "    </tr>\n",
       "  </tbody>\n",
       "</table>\n",
       "<p>42000 rows × 2 columns</p>\n",
       "</div>"
      ],
      "text/plain": [
       "       Unnamed: 0  label\n",
       "0               0      1\n",
       "1               1      0\n",
       "2               2      1\n",
       "3               3      4\n",
       "4               4      0\n",
       "...           ...    ...\n",
       "41995       41995      0\n",
       "41996       41996      1\n",
       "41997       41997      7\n",
       "41998       41998      6\n",
       "41999       41999      9\n",
       "\n",
       "[42000 rows x 2 columns]"
      ]
     },
     "metadata": {},
     "output_type": "display_data"
    }
   ],
   "source": [
    "display(images)\n",
    "display(labels)"
   ]
  },
  {
   "cell_type": "markdown",
   "metadata": {},
   "source": [
    "2. Remove first columns of labels and images "
   ]
  },
  {
   "cell_type": "code",
   "execution_count": 4,
   "metadata": {},
   "outputs": [],
   "source": [
    "images =images.drop(['Unnamed: 0'],axis=1)\n",
    "labels =labels.drop(['Unnamed: 0'],axis=1)"
   ]
  },
  {
   "cell_type": "code",
   "execution_count": 5,
   "metadata": {},
   "outputs": [
    {
     "data": {
      "text/plain": [
       "label\n",
       "1        4684\n",
       "7        4401\n",
       "3        4351\n",
       "9        4188\n",
       "2        4177\n",
       "6        4137\n",
       "0        4132\n",
       "4        4072\n",
       "8        4063\n",
       "5        3795\n",
       "dtype: int64"
      ]
     },
     "execution_count": 5,
     "metadata": {},
     "output_type": "execute_result"
    }
   ],
   "source": [
    "labels.value_counts()"
   ]
  },
  {
   "cell_type": "markdown",
   "metadata": {},
   "source": [
    "3. Visualize images by using `numpy` and `matplotlib`\n",
    ">  *    You can use `.reshape()` of `numpy` 👉 images are 28x28 pixels 😉\n",
    ">  *   You can also use `.imshow` from `matplotlib to visualize images "
   ]
  },
  {
   "cell_type": "code",
   "execution_count": 6,
   "metadata": {},
   "outputs": [],
   "source": [
    "images_reshape= images.values.reshape(42000, 28, 28)  #il faut que ça soir un np array"
   ]
  },
  {
   "cell_type": "code",
   "execution_count": 7,
   "metadata": {},
   "outputs": [
    {
     "data": {
      "image/png": "[encoded data removed]",
      "text/plain": [
       "<Figure size 720x720 with 20 Axes>"
      ]
     },
     "metadata": {
      "needs_background": "light"
     },
     "output_type": "display_data"
    }
   ],
   "source": [
    "\n",
    "fig, ax = plt.subplots(5, 4, figsize=(10,10))\n",
    "for i, axi in enumerate(ax.flat):\n",
    "    axi.imshow(images_reshape[i], cmap='bone')\n",
    "    #axi.set(xticks=[], yticks=[],xlabel=labels[i])"
   ]
  },
  {
   "cell_type": "markdown",
   "metadata": {},
   "source": [
    "4. Use `train_test_split` from `sklearn` to split your dataset into a train and a test set."
   ]
  },
  {
   "cell_type": "code",
   "execution_count": 8,
   "metadata": {},
   "outputs": [
    {
     "name": "stdout",
     "output_type": "stream",
     "text": [
      "Dividing into train and test sets...\n",
      "...Done.\n",
      "\n"
     ]
    }
   ],
   "source": [
    "from sklearn.model_selection import train_test_split\n",
    "\n",
    "print(\"Dividing into train and test sets...\")\n",
    "X_train, X_test, Y_train, Y_test = train_test_split(images, labels, test_size=0.2, random_state=0,)\n",
    "\n",
    "print(\"...Done.\")\n",
    "print()"
   ]
  },
  {
   "cell_type": "markdown",
   "metadata": {},
   "source": [
    "5. Normalize your train set and apply your normalization on your test set. "
   ]
  },
  {
   "cell_type": "code",
   "execution_count": 9,
   "metadata": {},
   "outputs": [
    {
     "data": {
      "text/plain": [
       "array([[ 0.05941189, -0.66006338,  0.50914581, ...,  0.6110693 ,\n",
       "        -0.62541601,  0.55892742],\n",
       "       [ 0.30462944, -0.07239049, -1.87888412, ..., -1.09532979,\n",
       "        -0.54293099,  1.44916198],\n",
       "       [-1.04870213,  1.02050297, -0.8446614 , ..., -0.60054372,\n",
       "         0.80332734,  0.95305223],\n",
       "       ...,\n",
       "       [-0.24928451, -1.02597437, -0.65194231, ..., -0.27835664,\n",
       "        -0.08080155,  0.75624561],\n",
       "       [-0.51826768, -1.41096237, -0.00489003, ..., -0.39840221,\n",
       "         0.91569792, -1.26188888],\n",
       "       [ 0.71159682, -0.48956033, -0.57326204, ..., -0.13831535,\n",
       "         0.10780635, -1.12949691]])"
      ]
     },
     "metadata": {},
     "output_type": "display_data"
    },
    {
     "data": {
      "text/plain": [
       "array([[-1.7862609 , -0.12772858, -0.86450726, ...,  0.81134792,\n",
       "        -0.20424438, -0.1133787 ],\n",
       "       [-1.60431054, -1.41701518, -0.7457514 , ...,  0.66970171,\n",
       "         1.65309632,  1.08552987],\n",
       "       [-0.43970082,  0.48625425,  0.1177875 , ..., -0.07899168,\n",
       "         1.41172717, -0.22352155],\n",
       "       ...,\n",
       "       [-1.23994425, -0.89463042,  0.93219781, ...,  1.69410596,\n",
       "         1.32592937,  0.61976888],\n",
       "       [ 0.86050027, -1.43675161,  1.2832892 , ...,  0.99380585,\n",
       "        -1.23824983,  0.33787958],\n",
       "       [ 2.23097841,  0.58439846, -0.87252951, ...,  2.09518305,\n",
       "         0.98434179, -2.94619659]])"
      ]
     },
     "metadata": {},
     "output_type": "display_data"
    }
   ],
   "source": [
    "from sklearn.preprocessing import StandardScaler\n",
    "\n",
    "\n",
    "sc = StandardScaler()\n",
    "\n",
    "X_train = sc.fit_transform(X_train)\n",
    "\n",
    "X_test = sc.transform(X_test)\n",
    "\n",
    "display(X_train)\n",
    "display(X_test)"
   ]
  },
  {
   "cell_type": "markdown",
   "metadata": {},
   "source": [
    "6. Import `SVC` from `sklearn.svm` and apply it on your dataset. Check out scores. "
   ]
  },
  {
   "cell_type": "code",
   "execution_count": 10,
   "metadata": {},
   "outputs": [
    {
     "name": "stderr",
     "output_type": "stream",
     "text": [
      "/opt/conda/lib/python3.8/site-packages/sklearn/utils/validation.py:72: DataConversionWarning: A column-vector y was passed when a 1d array was expected. Please change the shape of y to (n_samples, ), for example using ravel().\n",
      "  return f(**kwargs)\n"
     ]
    },
    {
     "data": {
      "text/plain": [
       "'the score on trian is'"
      ]
     },
     "metadata": {},
     "output_type": "display_data"
    },
    {
     "data": {
      "text/plain": [
       "0.984375"
      ]
     },
     "metadata": {},
     "output_type": "display_data"
    },
    {
     "name": "stdout",
     "output_type": "stream",
     "text": [
      "\n",
      "\n"
     ]
    },
    {
     "data": {
      "text/plain": [
       "'the score on test is'"
      ]
     },
     "metadata": {},
     "output_type": "display_data"
    },
    {
     "data": {
      "text/plain": [
       "0.8864285714285715"
      ]
     },
     "metadata": {},
     "output_type": "display_data"
    }
   ],
   "source": [
    "from sklearn.svm import SVC\n",
    "\n",
    "svc = SVC()\n",
    "\n",
    "svc.fit(X_train,Y_train,)\n",
    "\n",
    "display('the score on trian is',svc.score(X_train, Y_train))\n",
    "print('\\n')\n",
    "display('the score on test is',svc.score(X_test,Y_test))"
   ]
  },
  {
   "cell_type": "markdown",
   "metadata": {},
   "source": [
    "7. Import `PCA` from `sklearn.decomposition` and apply it on your train set. \n",
    "> Keep only 15% of the explained variance "
   ]
  },
  {
   "cell_type": "code",
   "execution_count": 11,
   "metadata": {},
   "outputs": [
    {
     "data": {
      "text/plain": [
       "array([[ 3.93509458,  2.70722049, -0.49566682,  6.93287769,  0.67237085,\n",
       "         0.10616759,  0.1068065 ,  1.63867147, -0.8112742 ,  1.26633447,\n",
       "        -1.75315732,  3.22031154,  2.83860219,  1.25834594,  0.38974414,\n",
       "        -2.39863057,  0.36128396, -0.98666995,  0.50850245,  1.89374859,\n",
       "         1.61669844,  1.52996807,  3.0314294 , -2.0169459 , -0.39463034,\n",
       "         1.70548041,  0.04382207, -2.76281281,  0.79708237, -0.11908071,\n",
       "         1.56155294],\n",
       "       [ 7.17453219,  2.1538867 ,  0.75734089,  1.59475538, -0.37336525,\n",
       "         1.39686832,  1.63167767, -0.35388021, -1.01731217,  3.37594141,\n",
       "        -3.26411557,  0.76599158,  1.73716133, -2.11173392,  2.43413367,\n",
       "        -2.96790108,  2.96275566,  0.73550047, -0.34407007, -0.67616245,\n",
       "        -1.04335229,  0.49505862,  0.33019286, -0.25413063, -0.25513652,\n",
       "         6.19222985,  0.58433785, -0.36592912,  1.12646822, -0.32680231,\n",
       "        -0.63099169],\n",
       "       [-1.05937883,  4.26989968,  3.80708272,  1.5743183 , -4.91547848,\n",
       "         1.89495563, -4.90744394,  0.58868964,  2.53016564,  1.85495522,\n",
       "        -1.11792878,  0.01856962, -0.38239589,  0.51653601, -1.00731708,\n",
       "        -0.31131257, -0.35625038, -1.95128091, -0.20113704,  1.45168977,\n",
       "         1.74228556, -2.77894962,  2.10495472, -0.2142799 , -0.75945128,\n",
       "        -0.02502857, -1.89908882,  1.65204408, -0.17489888, -0.02457882,\n",
       "        -0.08665244],\n",
       "       [-0.84320621,  4.7036981 ,  1.65506222,  0.23900755,  4.02045953,\n",
       "        -2.27807832, -2.25589305,  2.5446477 , -2.25829679,  0.15100025,\n",
       "         0.59812472,  2.56147922,  2.52148227, -1.40716599,  3.78183568,\n",
       "         0.40188476,  0.60822013, -0.32745801,  2.26313114,  2.05429255,\n",
       "         0.63281418,  0.10917084,  0.18837323, -0.71113443,  0.15297745,\n",
       "         0.79818452, -1.74110528,  0.11659195,  2.63215982, -2.47881255,\n",
       "         0.93309675],\n",
       "       [ 2.52948128,  1.48014927, -3.15157925,  3.66956222, -1.11120037,\n",
       "         2.31224068, -2.98065244, -1.19525149, -1.80200952, -1.03871443,\n",
       "         5.33836836, -0.182057  ,  1.10283297,  2.89928899, -0.87933741,\n",
       "        -1.10438747,  0.75797317,  2.3175765 ,  0.22980202, -0.31556987,\n",
       "         1.41425656, -0.6731546 ,  0.68261591, -0.95460225,  0.39703432,\n",
       "        -0.81899036,  0.20582034,  1.62172622, -0.21908123,  2.31798225,\n",
       "         1.270145  ]])"
      ]
     },
     "execution_count": 11,
     "metadata": {},
     "output_type": "execute_result"
    }
   ],
   "source": [
    "# import PCA \n",
    "from sklearn.decomposition import PCA\n",
    "\n",
    "# Instanciate PCA \n",
    "# We can even specify how many components we want within the class\n",
    "pca = PCA(.15)\n",
    "\n",
    "# Fit pca to our model \n",
    "PC = pca.fit_transform(X_train)\n",
    "PCtest= pca.transform(X_test)\n",
    "\n",
    "# Visualize first five rows\n",
    "PC[:5]"
   ]
  },
  {
   "cell_type": "markdown",
   "metadata": {},
   "source": [
    "8. Get the number of components "
   ]
  },
  {
   "cell_type": "code",
   "execution_count": 12,
   "metadata": {},
   "outputs": [
    {
     "data": {
      "text/html": [
       "<div>\n",
       "<style scoped>\n",
       "    .dataframe tbody tr th:only-of-type {\n",
       "        vertical-align: middle;\n",
       "    }\n",
       "\n",
       "    .dataframe tbody tr th {\n",
       "        vertical-align: top;\n",
       "    }\n",
       "\n",
       "    .dataframe thead th {\n",
       "        text-align: right;\n",
       "    }\n",
       "</style>\n",
       "<table border=\"1\" class=\"dataframe\">\n",
       "  <thead>\n",
       "    <tr style=\"text-align: right;\">\n",
       "      <th></th>\n",
       "      <th>0</th>\n",
       "      <th>1</th>\n",
       "      <th>2</th>\n",
       "      <th>3</th>\n",
       "      <th>4</th>\n",
       "      <th>5</th>\n",
       "      <th>6</th>\n",
       "      <th>7</th>\n",
       "      <th>8</th>\n",
       "      <th>9</th>\n",
       "      <th>...</th>\n",
       "      <th>774</th>\n",
       "      <th>775</th>\n",
       "      <th>776</th>\n",
       "      <th>777</th>\n",
       "      <th>778</th>\n",
       "      <th>779</th>\n",
       "      <th>780</th>\n",
       "      <th>781</th>\n",
       "      <th>782</th>\n",
       "      <th>783</th>\n",
       "    </tr>\n",
       "  </thead>\n",
       "  <tbody>\n",
       "    <tr>\n",
       "      <th>0</th>\n",
       "      <td>0.001468</td>\n",
       "      <td>-0.002555</td>\n",
       "      <td>-0.000554</td>\n",
       "      <td>-0.000533</td>\n",
       "      <td>0.000824</td>\n",
       "      <td>-0.000842</td>\n",
       "      <td>0.001470</td>\n",
       "      <td>-0.000131</td>\n",
       "      <td>0.002163</td>\n",
       "      <td>-0.002341</td>\n",
       "      <td>...</td>\n",
       "      <td>-0.000531</td>\n",
       "      <td>-0.000353</td>\n",
       "      <td>0.000171</td>\n",
       "      <td>0.001259</td>\n",
       "      <td>-0.001286</td>\n",
       "      <td>-0.001789</td>\n",
       "      <td>-0.002911</td>\n",
       "      <td>0.001578</td>\n",
       "      <td>0.001934</td>\n",
       "      <td>0.000990</td>\n",
       "    </tr>\n",
       "    <tr>\n",
       "      <th>1</th>\n",
       "      <td>0.000497</td>\n",
       "      <td>0.000288</td>\n",
       "      <td>0.002017</td>\n",
       "      <td>0.002235</td>\n",
       "      <td>0.001197</td>\n",
       "      <td>0.000728</td>\n",
       "      <td>-0.002423</td>\n",
       "      <td>-0.003390</td>\n",
       "      <td>0.000218</td>\n",
       "      <td>-0.001973</td>\n",
       "      <td>...</td>\n",
       "      <td>0.001539</td>\n",
       "      <td>0.004399</td>\n",
       "      <td>0.001608</td>\n",
       "      <td>-0.001854</td>\n",
       "      <td>-0.001837</td>\n",
       "      <td>-0.000624</td>\n",
       "      <td>-0.002021</td>\n",
       "      <td>0.000427</td>\n",
       "      <td>-0.002400</td>\n",
       "      <td>-0.000758</td>\n",
       "    </tr>\n",
       "    <tr>\n",
       "      <th>2</th>\n",
       "      <td>-0.002839</td>\n",
       "      <td>-0.002539</td>\n",
       "      <td>-0.001193</td>\n",
       "      <td>0.000258</td>\n",
       "      <td>0.000410</td>\n",
       "      <td>0.000535</td>\n",
       "      <td>-0.000509</td>\n",
       "      <td>0.003423</td>\n",
       "      <td>-0.000204</td>\n",
       "      <td>0.005334</td>\n",
       "      <td>...</td>\n",
       "      <td>0.000176</td>\n",
       "      <td>-0.001819</td>\n",
       "      <td>-0.001333</td>\n",
       "      <td>-0.001671</td>\n",
       "      <td>-0.000110</td>\n",
       "      <td>0.005007</td>\n",
       "      <td>0.001991</td>\n",
       "      <td>0.002508</td>\n",
       "      <td>0.001099</td>\n",
       "      <td>-0.001627</td>\n",
       "    </tr>\n",
       "    <tr>\n",
       "      <th>3</th>\n",
       "      <td>0.000722</td>\n",
       "      <td>0.002013</td>\n",
       "      <td>-0.000232</td>\n",
       "      <td>0.001039</td>\n",
       "      <td>-0.002463</td>\n",
       "      <td>-0.000421</td>\n",
       "      <td>-0.001504</td>\n",
       "      <td>0.003126</td>\n",
       "      <td>0.000138</td>\n",
       "      <td>0.000588</td>\n",
       "      <td>...</td>\n",
       "      <td>-0.000399</td>\n",
       "      <td>-0.000109</td>\n",
       "      <td>-0.000223</td>\n",
       "      <td>-0.000970</td>\n",
       "      <td>-0.001118</td>\n",
       "      <td>0.004758</td>\n",
       "      <td>0.000418</td>\n",
       "      <td>0.001915</td>\n",
       "      <td>0.002066</td>\n",
       "      <td>-0.003552</td>\n",
       "    </tr>\n",
       "    <tr>\n",
       "      <th>4</th>\n",
       "      <td>-0.002339</td>\n",
       "      <td>0.002742</td>\n",
       "      <td>-0.000195</td>\n",
       "      <td>-0.003153</td>\n",
       "      <td>0.001319</td>\n",
       "      <td>-0.001598</td>\n",
       "      <td>-0.001115</td>\n",
       "      <td>-0.000850</td>\n",
       "      <td>0.000870</td>\n",
       "      <td>-0.000796</td>\n",
       "      <td>...</td>\n",
       "      <td>0.000608</td>\n",
       "      <td>-0.001501</td>\n",
       "      <td>0.001178</td>\n",
       "      <td>0.003452</td>\n",
       "      <td>-0.000456</td>\n",
       "      <td>-0.006093</td>\n",
       "      <td>-0.000093</td>\n",
       "      <td>0.002282</td>\n",
       "      <td>-0.004327</td>\n",
       "      <td>-0.003267</td>\n",
       "    </tr>\n",
       "  </tbody>\n",
       "</table>\n",
       "<p>5 rows × 784 columns</p>\n",
       "</div>"
      ],
      "text/plain": [
       "        0         1         2         3         4         5         6    \\\n",
       "0  0.001468 -0.002555 -0.000554 -0.000533  0.000824 -0.000842  0.001470   \n",
       "1  0.000497  0.000288  0.002017  0.002235  0.001197  0.000728 -0.002423   \n",
       "2 -0.002839 -0.002539 -0.001193  0.000258  0.000410  0.000535 -0.000509   \n",
       "3  0.000722  0.002013 -0.000232  0.001039 -0.002463 -0.000421 -0.001504   \n",
       "4 -0.002339  0.002742 -0.000195 -0.003153  0.001319 -0.001598 -0.001115   \n",
       "\n",
       "        7         8         9    ...       774       775       776       777  \\\n",
       "0 -0.000131  0.002163 -0.002341  ... -0.000531 -0.000353  0.000171  0.001259   \n",
       "1 -0.003390  0.000218 -0.001973  ...  0.001539  0.004399  0.001608 -0.001854   \n",
       "2  0.003423 -0.000204  0.005334  ...  0.000176 -0.001819 -0.001333 -0.001671   \n",
       "3  0.003126  0.000138  0.000588  ... -0.000399 -0.000109 -0.000223 -0.000970   \n",
       "4 -0.000850  0.000870 -0.000796  ...  0.000608 -0.001501  0.001178  0.003452   \n",
       "\n",
       "        778       779       780       781       782       783  \n",
       "0 -0.001286 -0.001789 -0.002911  0.001578  0.001934  0.000990  \n",
       "1 -0.001837 -0.000624 -0.002021  0.000427 -0.002400 -0.000758  \n",
       "2 -0.000110  0.005007  0.001991  0.002508  0.001099 -0.001627  \n",
       "3 -0.001118  0.004758  0.000418  0.001915  0.002066 -0.003552  \n",
       "4 -0.000456 -0.006093 -0.000093  0.002282 -0.004327 -0.003267  \n",
       "\n",
       "[5 rows x 784 columns]"
      ]
     },
     "execution_count": 12,
     "metadata": {},
     "output_type": "execute_result"
    }
   ],
   "source": [
    "PCtranspo = pd.DataFrame(data=pca.components_)   # valeur de tout les coefs de chaque X\n",
    "PCtranspo.head()"
   ]
  },
  {
   "cell_type": "code",
   "execution_count": 13,
   "metadata": {},
   "outputs": [
    {
     "name": "stdout",
     "output_type": "stream",
     "text": [
      "Explained Variance ration per PC: [0.01781578 0.01268513 0.01151518 0.00986096 0.0089087  0.00793382\n",
      " 0.00624478 0.00564741 0.00541693 0.0047467  0.00437915 0.00430694\n",
      " 0.0036985  0.00362428 0.00357607 0.00329061 0.00318671 0.00304316\n",
      " 0.00292304 0.0028142  0.00269486 0.00257371 0.00255529 0.0024424\n",
      " 0.00237466 0.00233519 0.00229354 0.00225329 0.00217803 0.00214832\n",
      " 0.00204919]\n",
      "Total explained variance ratio: 0.1515165258291611%\n"
     ]
    }
   ],
   "source": [
    "\n",
    "\n",
    "# Use pca.explained_variance_ratio_\n",
    "print(\"Explained Variance ration per PC: {}\".format(pca.explained_variance_ratio_))\n",
    "\n",
    "print(\"Total explained variance ratio: {}%\".format(pca.explained_variance_ratio_.sum()))\n",
    "\n",
    "\n"
   ]
  },
  {
   "cell_type": "markdown",
   "metadata": {},
   "source": [
    "9. Apply PCA on your test set"
   ]
  },
  {
   "cell_type": "code",
   "execution_count": 14,
   "metadata": {},
   "outputs": [
    {
     "data": {
      "image/png": "[encoded data removed]",
      "text/plain": [
       "<Figure size 720x720 with 20 Axes>"
      ]
     },
     "metadata": {
      "needs_background": "light"
     },
     "output_type": "display_data"
    }
   ],
   "source": [
    "\n",
    "fig, ax = plt.subplots(5, 4, figsize=(10,10))\n",
    "for i, axi in enumerate(ax.flat):\n",
    "    axi.imshow(pca.inverse_transform(PC[i]).reshape(28,28), cmap='bone')\n",
    "    #axi.set(xticks=[], yticks=[],xlabel=labels[i])"
   ]
  },
  {
   "cell_type": "code",
   "execution_count": 15,
   "metadata": {},
   "outputs": [
    {
     "name": "stderr",
     "output_type": "stream",
     "text": [
      "/opt/conda/lib/python3.8/site-packages/sklearn/utils/validation.py:72: DataConversionWarning: A column-vector y was passed when a 1d array was expected. Please change the shape of y to (n_samples, ), for example using ravel().\n",
      "  return f(**kwargs)\n"
     ]
    },
    {
     "data": {
      "text/plain": [
       "'the score on trian is'"
      ]
     },
     "metadata": {},
     "output_type": "display_data"
    },
    {
     "data": {
      "text/plain": [
       "0.9666964285714286"
      ]
     },
     "metadata": {},
     "output_type": "display_data"
    },
    {
     "name": "stdout",
     "output_type": "stream",
     "text": [
      "\n",
      "\n"
     ]
    },
    {
     "data": {
      "text/plain": [
       "'the score on test is'"
      ]
     },
     "metadata": {},
     "output_type": "display_data"
    },
    {
     "data": {
      "text/plain": [
       "0.9447619047619048"
      ]
     },
     "metadata": {},
     "output_type": "display_data"
    }
   ],
   "source": [
    "from sklearn.svm import SVC\n",
    "\n",
    "svc = SVC()\n",
    "\n",
    "svc.fit(PC,Y_train,)\n",
    "\n",
    "display('the score on trian is',svc.score(PC, Y_train))\n",
    "print('\\n')\n",
    "display('the score on test is',svc.score(PCtest,Y_test))"
   ]
  },
  {
   "cell_type": "code",
   "execution_count": 16,
   "metadata": {},
   "outputs": [],
   "source": [
    "### Not only we improve accuracy but training took wayyy less time! "
   ]
  }
 ],
 "metadata": {
  "kernelspec": {
   "display_name": "Python 3",
   "language": "python",
   "name": "python3"
  },
  "language_info": {
   "codemirror_mode": {
    "name": "ipython",
    "version": 3
   },
   "file_extension": ".py",
   "mimetype": "text/x-python",
   "name": "python",
   "nbconvert_exporter": "python",
   "pygments_lexer": "ipython3",
   "version": "3.8.6"
  }
 },
 "nbformat": 4,
 "nbformat_minor": 4
}
